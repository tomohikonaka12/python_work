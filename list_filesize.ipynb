{
 "cells": [
  {
   "cell_type": "code",
   "execution_count": 11,
   "metadata": {},
   "outputs": [
    {
     "name": "stdout",
     "output_type": "stream",
     "text": [
      "41\n",
      "653766\n"
     ]
    }
   ],
   "source": [
    "import os\n",
    "\n",
    "# ファイル出力でサイズ取得\n",
    "print(os.path.getsize('C:/windows-version.txt'))\n",
    "print(os.path.getsize('C:\\Windows\\AsCDProc.log'))\n",
    "\n",
    "\n"
   ]
  },
  {
   "cell_type": "code",
   "execution_count": 12,
   "metadata": {},
   "outputs": [
    {
     "name": "stdout",
     "output_type": "stream",
     "text": [
      "3663996154\n"
     ]
    }
   ],
   "source": [
    "# フォルダ指定でサイズ取得\n",
    "\n",
    "def get_dir_size(path='.'):\n",
    "    total = 0\n",
    "    with os.scandir(path) as it:\n",
    "        for entry in it:\n",
    "            if entry.is_file():\n",
    "                total += entry.stat().st_size\n",
    "            elif entry.is_dir():\n",
    "                total += get_dir_size(entry.path)\n",
    "    return total\n",
    "\n",
    "\n",
    "print(get_dir_size('D:\\VirtualMachines'))\n",
    "# 56130856"
   ]
  },
  {
   "cell_type": "code",
   "execution_count": 9,
   "metadata": {},
   "outputs": [
    {
     "name": "stdout",
     "output_type": "stream",
     "text": [
      "3.0MB\tC:\\Users\\tomohiko\\Documents\\DjangoWork\\djangogirls\\myvenv\\Scripts\\python36.dll\n",
      "3.0MB\tC:\\Users\\tomohiko\\Documents\\DjangoWork\\test2\\testenv\\Scripts\\python36.dll\n",
      ".\n",
      ".\n",
      ".\n",
      "3.0MB\tC:\\Users\\tomohiko\\Documents\\Processing\\work\\exp4_12\\application.windows32\\lib\\jogl-all.jar\n",
      "59.0MB\tC:\\Users\\tomohiko\\Documents\\Processing\\work\\exp4_12\\application.windows64\\java\\bin\\jfxwebkit.dll\n",
      "8.0MB\tC:\\Users\\tomohiko\\Documents\\Processing\\work\\exp4_12\\application.windows64\\java\\bin\\server\\jvm.dll\n",
      "2.0MB\tC:\\Users\\tomohiko\\Documents\\Processing\\work\\exp4_12\\application.windows64\\java\\lib\\charsets.jar\n",
      "2.0MB\tC:\\Users\\tomohiko\\Documents\\Processing\\work\\exp4_12\\application.windows64\\java\\lib\\deploy.jar\n",
      "3.0MB\tC:\\Users\\tomohiko\\Documents\\Processing\\work\\exp4_12\\application.windows64\\java\\lib\\ext\\cldrdata.jar\n",
      "17.0MB\tC:\\Users\\tomohiko\\Documents\\Processing\\work\\exp4_12\\application.windows64\\java\\lib\\ext\\jfxrt.jar\n",
      "3.0MB\tC:\\Users\\tomohiko\\Documents\\Processing\\work\\exp4_12\\application.windows64\\java\\lib\\resources.jar\n",
      "60.0MB\tC:\\Users\\tomohiko\\Documents\\Processing\\work\\exp4_12\\application.windows64\\java\\lib\\rt.jar\n",
      "3.0MB\tC:\\Users\\tomohiko\\Documents\\Processing\\work\\exp4_12\\application.windows64\\lib\\jogl-all.jar\n",
      "3.0MB\tC:\\Users\\tomohiko\\Documents\\Processing\\work\\sketch_190923a\\application.windows32\\lib\\jogl-all.jar\n",
      "59.0MB\tC:\\Users\\tomohiko\\Documents\\Processing\\work\\sketch_190923a\\application.windows64\\java\\bin\\jfxwebkit.dll\n",
      "8.0MB\tC:\\Users\\tomohiko\\Documents\\Processing\\work\\sketch_190923a\\application.windows64\\java\\bin\\server\\jvm.dll\n",
      "2.0MB\tC:\\Users\\tomohiko\\Documents\\Processing\\work\\sketch_190923a\\application.windows64\\java\\lib\\charsets.jar\n",
      "2.0MB\tC:\\Users\\tomohiko\\Documents\\Processing\\work\\sketch_190923a\\application.windows64\\java\\lib\\deploy.jar\n",
      "3.0MB\tC:\\Users\\tomohiko\\Documents\\Processing\\work\\sketch_190923a\\application.windows64\\java\\lib\\ext\\cldrdata.jar\n",
      "17.0MB\tC:\\Users\\tomohiko\\Documents\\Processing\\work\\sketch_190923a\\application.windows64\\java\\lib\\ext\\jfxrt.jar\n",
      "3.0MB\tC:\\Users\\tomohiko\\Documents\\Processing\\work\\sketch_190923a\\application.windows64\\java\\lib\\resources.jar\n",
      "60.0MB\tC:\\Users\\tomohiko\\Documents\\Processing\\work\\sketch_190923a\\application.windows64\\java\\lib\\rt.jar\n",
      "3.0MB\tC:\\Users\\tomohiko\\Documents\\Processing\\work\\sketch_190923a\\application.windows64\\lib\\jogl-all.jar\n",
      "3.0MB\tC:\\Users\\tomohiko\\Documents\\processing-3.5.3\\core\\library\\jogl-all.jar\n",
      "59.0MB\tC:\\Users\\tomohiko\\Documents\\processing-3.5.3\\java\\bin\\jfxwebkit.dll\n",
      "8.0MB\tC:\\Users\\tomohiko\\Documents\\processing-3.5.3\\java\\bin\\server\\jvm.dll\n",
      "2.0MB\tC:\\Users\\tomohiko\\Documents\\processing-3.5.3\\java\\lib\\charsets.jar\n",
      "2.0MB\tC:\\Users\\tomohiko\\Documents\\processing-3.5.3\\java\\lib\\deploy.jar\n",
      "3.0MB\tC:\\Users\\tomohiko\\Documents\\processing-3.5.3\\java\\lib\\ext\\cldrdata.jar\n",
      "17.0MB\tC:\\Users\\tomohiko\\Documents\\processing-3.5.3\\java\\lib\\ext\\jfxrt.jar\n",
      "3.0MB\tC:\\Users\\tomohiko\\Documents\\processing-3.5.3\\java\\lib\\resources.jar\n",
      "60.0MB\tC:\\Users\\tomohiko\\Documents\\processing-3.5.3\\java\\lib\\rt.jar\n",
      "10.0MB\tC:\\Users\\tomohiko\\Documents\\processing-3.5.3\\modes\\java\\mode\\com.ibm.icu.jar\n",
      "5.0MB\tC:\\Users\\tomohiko\\Documents\\processing-3.5.3\\modes\\java\\mode\\org.eclipse.jdt.core.jar\n",
      "5.0MB\tC:\\Users\\tomohiko\\Documents\\PythonWork\\geckodriver.exe\n",
      "6.0MB\tC:\\Users\\tomohiko\\Documents\\Selenium_work\\chromedriver.exe\n",
      "2.0MB\tC:\\Users\\tomohiko\\Documents\\VSC_workspace\\data_science_work\\python_stat_sample-master\\animation\\chap04_anim.ipynb\n",
      "3.0MB\tC:\\Users\\tomohiko\\Documents\\VSC_workspace\\data_science_work\\python_stat_sample-master\\animation\\chap09_anim.ipynb\n",
      "52.0MB\tC:\\Users\\tomohiko\\Documents\\VSC_workspace\\deep_learning\\chap3\\dataset\\mnist.pkl\n",
      "9.0MB\tC:\\Users\\tomohiko\\Documents\\VSC_workspace\\deep_learning\\chap3\\dataset\\train-images-idx3-ubyte.gz\n",
      "3.0MB\tC:\\Users\\tomohiko\\Documents\\VSC_workspace\\deep_learning\\deep-learning-from-scratch-master\\ch07\\params.pkl\n",
      "8.0MB\tC:\\Users\\tomohiko\\Documents\\VSC_workspace\\Go_app\\oreirry\\chat\\chat\n",
      "9.0MB\tC:\\Users\\tomohiko\\Documents\\VSC_workspace\\Go_app\\oreirry\\chat\\chat.exe\n",
      "9.0MB\tC:\\Users\\tomohiko\\Documents\\VSC_workspace\\Go_app\\oreirry\\chat\\main.exe\n",
      "2.0MB\tC:\\Users\\tomohiko\\Documents\\VSC_workspace\\OAuth_work\\oauth-in-action-code\\.git\\objects\\pack\\pack-989d5da56326ca9ff6500e7a656929320d5c0204.pack\n",
      "96.0MB\tC:\\Users\\tomohiko\\Documents\\VSC_workspace\\Puppeteer_work\\puppeteer_lambda\\node_modules\\@serverless-chrome\\lambda\\dist\\headless-chromium\n",
      "4.0MB\tC:\\Users\\tomohiko\\Documents\\VSC_workspace\\Puppeteer_work\\puppeteer_lambda\\node_modules\\aws-sdk\\dist\\aws-sdk-react-native.js\n",
      "4.0MB\tC:\\Users\\tomohiko\\Documents\\VSC_workspace\\Puppeteer_work\\puppeteer_lambda\\node_modules\\aws-sdk\\dist\\aws-sdk.js\n",
      "47.0MB\tC:\\Users\\tomohiko\\Documents\\VSC_workspace\\Puppeteer_work\\puppeteer_lambda.zip\n",
      "51.0MB\tC:\\Users\\tomohiko\\Documents\\VSC_workspace\\Puppeteer_work\\work\\node_modules\\puppeteer\\.local-chromium\\win64-571375\\chrome-win32\\chrome.dll\n",
      "72.0MB\tC:\\Users\\tomohiko\\Documents\\VSC_workspace\\Puppeteer_work\\work\\node_modules\\puppeteer\\.local-chromium\\win64-571375\\chrome-win32\\chrome_child.dll\n",
      "4.0MB\tC:\\Users\\tomohiko\\Documents\\VSC_workspace\\Puppeteer_work\\work\\node_modules\\puppeteer\\.local-chromium\\win64-571375\\chrome-win32\\D3DCompiler_47.dll\n",
      "9.0MB\tC:\\Users\\tomohiko\\Documents\\VSC_workspace\\Puppeteer_work\\work\\node_modules\\puppeteer\\.local-chromium\\win64-571375\\chrome-win32\\icudtl.dat\n",
      "108.0MB\tC:\\Users\\tomohiko\\Documents\\VSC_workspace\\Puppeteer_work\\work\\node_modules\\puppeteer\\.local-chromium\\win64-571375\\chrome-win32\\interactive_ui_tests.exe\n",
      "4.0MB\tC:\\Users\\tomohiko\\Documents\\VSC_workspace\\Puppeteer_work\\work\\node_modules\\puppeteer\\.local-chromium\\win64-571375\\chrome-win32\\libGLESv2.dll\n",
      "3.0MB\tC:\\Users\\tomohiko\\Documents\\VSC_workspace\\Puppeteer_work\\work\\node_modules\\puppeteer\\.local-chromium\\win64-571375\\chrome-win32\\nacl_irt_x86_64.nexe\n",
      "12.0MB\tC:\\Users\\tomohiko\\Documents\\VSC_workspace\\Puppeteer_work\\work\\node_modules\\puppeteer\\.local-chromium\\win64-571375\\chrome-win32\\resources.pak\n",
      "2.0MB\tC:\\Users\\tomohiko\\Documents\\VSC_workspace\\Puppeteer_work\\work\\node_modules\\puppeteer\\.local-chromium\\win64-571375\\chrome-win32\\swiftshader\\libGLESv2.dll\n",
      "56.0MB\tC:\\Users\\tomohiko\\Documents\\VSC_workspace\\Puppeteer_work\\work2\\node_modules\\puppeteer\\.local-chromium\\win64-609904\\chrome-win\\chrome.dll\n",
      "84.0MB\tC:\\Users\\tomohiko\\Documents\\VSC_workspace\\Puppeteer_work\\work2\\node_modules\\puppeteer\\.local-chromium\\win64-609904\\chrome-win\\chrome_child.dll\n",
      "4.0MB\tC:\\Users\\tomohiko\\Documents\\VSC_workspace\\Puppeteer_work\\work2\\node_modules\\puppeteer\\.local-chromium\\win64-609904\\chrome-win\\D3DCompiler_47.dll\n",
      "9.0MB\tC:\\Users\\tomohiko\\Documents\\VSC_workspace\\Puppeteer_work\\work2\\node_modules\\puppeteer\\.local-chromium\\win64-609904\\chrome-win\\icudtl.dat\n",
      "115.0MB\tC:\\Users\\tomohiko\\Documents\\VSC_workspace\\Puppeteer_work\\work2\\node_modules\\puppeteer\\.local-chromium\\win64-609904\\chrome-win\\interactive_ui_tests.exe\n",
      "5.0MB\tC:\\Users\\tomohiko\\Documents\\VSC_workspace\\Puppeteer_work\\work2\\node_modules\\puppeteer\\.local-chromium\\win64-609904\\chrome-win\\libGLESv2.dll\n",
      "3.0MB\tC:\\Users\\tomohiko\\Documents\\VSC_workspace\\Puppeteer_work\\work2\\node_modules\\puppeteer\\.local-chromium\\win64-609904\\chrome-win\\nacl_irt_x86_64.nexe\n",
      "12.0MB\tC:\\Users\\tomohiko\\Documents\\VSC_workspace\\Puppeteer_work\\work2\\node_modules\\puppeteer\\.local-chromium\\win64-609904\\chrome-win\\resources.pak\n",
      "2.0MB\tC:\\Users\\tomohiko\\Documents\\VSC_workspace\\Puppeteer_work\\work2\\node_modules\\puppeteer\\.local-chromium\\win64-609904\\chrome-win\\swiftshader\\libGLESv2.dll\n",
      "96.0MB\tC:\\Users\\tomohiko\\Documents\\VSC_workspace\\Puppeteer_work\\work3\\node_modules\\@serverless-chrome\\lambda\\dist\\headless-chromium\n",
      "41.0MB\tC:\\Users\\tomohiko\\Documents\\VSC_workspace\\Puppeteer_work\\work3\\node_modules.zip\n",
      "2.0MB\tC:\\Users\\tomohiko\\Documents\\VSC_workspace\\Puppeteer_work\\work3\\~\\.nvm\\.git\\objects\\pack\\pack-5f3d48632d4ef8eee6f8d692600f8db4a5c85c61.pack\n",
      "56.0MB\tC:\\Users\\tomohiko\\Documents\\VSC_workspace\\Puppeteer_work\\work4\\node_modules\\puppeteer\\.local-chromium\\win64-609904\\chrome-win\\chrome.dll\n",
      "84.0MB\tC:\\Users\\tomohiko\\Documents\\VSC_workspace\\Puppeteer_work\\work4\\node_modules\\puppeteer\\.local-chromium\\win64-609904\\chrome-win\\chrome_child.dll\n",
      "4.0MB\tC:\\Users\\tomohiko\\Documents\\VSC_workspace\\Puppeteer_work\\work4\\node_modules\\puppeteer\\.local-chromium\\win64-609904\\chrome-win\\D3DCompiler_47.dll\n",
      "9.0MB\tC:\\Users\\tomohiko\\Documents\\VSC_workspace\\Puppeteer_work\\work4\\node_modules\\puppeteer\\.local-chromium\\win64-609904\\chrome-win\\icudtl.dat\n",
      "115.0MB\tC:\\Users\\tomohiko\\Documents\\VSC_workspace\\Puppeteer_work\\work4\\node_modules\\puppeteer\\.local-chromium\\win64-609904\\chrome-win\\interactive_ui_tests.exe\n",
      "5.0MB\tC:\\Users\\tomohiko\\Documents\\VSC_workspace\\Puppeteer_work\\work4\\node_modules\\puppeteer\\.local-chromium\\win64-609904\\chrome-win\\libGLESv2.dll\n",
      "3.0MB\tC:\\Users\\tomohiko\\Documents\\VSC_workspace\\Puppeteer_work\\work4\\node_modules\\puppeteer\\.local-chromium\\win64-609904\\chrome-win\\nacl_irt_x86_64.nexe\n",
      "12.0MB\tC:\\Users\\tomohiko\\Documents\\VSC_workspace\\Puppeteer_work\\work4\\node_modules\\puppeteer\\.local-chromium\\win64-609904\\chrome-win\\resources.pak\n",
      "2.0MB\tC:\\Users\\tomohiko\\Documents\\VSC_workspace\\Puppeteer_work\\work4\\node_modules\\puppeteer\\.local-chromium\\win64-609904\\chrome-win\\swiftshader\\libGLESv2.dll\n"
     ]
    },
    {
     "name": "stdout",
     "output_type": "stream",
     "text": [
      "2.0MB\tC:\\Users\\tomohiko\\Documents\\VSC_workspace\\vue_app\\hello_app\\node_modules\\prettier\\parser-typescript.js\n",
      "12.0MB\tC:\\Users\\tomohiko\\Documents\\WebSitePerformance\\ch10-asset-delivery\\.git\\objects\\pack\\pack-02ee298823c4f45c62fdfa23eca0127960f6c72b.pack\n",
      "2.0MB\tC:\\Users\\tomohiko\\Documents\\WebSitePerformance\\ch5-responsive-images\\.git\\objects\\pack\\pack-3eb27eeb7f90486f590dcff3f0dc4dedcccce955.pack\n",
      "3.0MB\tC:\\Users\\tomohiko\\Documents\\WebSitePerformance\\ch9-service-workers\\.git\\objects\\pack\\pack-25afed07add5e379bb030f61faeb2f3651028c48.pack\n",
      "4.0MB\tC:\\Users\\tomohiko\\Documents\\ソラコムハンズオン_20181124\\iotkitholv4wiolte-180405053105.pdf\n"
     ]
    }
   ],
   "source": [
    "from pathlib import Path\n",
    "\n",
    "def search_files(path, size_min_in_byte):\n",
    "    \"\"\"指定されたパスの下にある指定されたサイズ以上のファイル名を一覧表示する\n",
    "    \"\"\"\n",
    "    size_min_in_mb = size_min_in_byte << 20\n",
    "\n",
    "    p = Path(path)\n",
    "\n",
    "    try:\n",
    "        # 指定されたパス以下のファイルを再帰的にチェックする\n",
    "        # 指定されたサイズ以上のファイルは「 10MB  ファイル名」といった感じに表示する\n",
    "        for file in p.iterdir():\n",
    "            if file.is_dir():\n",
    "                search_files(file, size_min_in_byte)\n",
    "            elif file.is_file():\n",
    "                size = file.stat().st_size\n",
    "                if size >= size_min_in_mb:\n",
    "                    # resolve() を使って絶対パスを表示する\n",
    "                    print('{:.1f}MB\\t{}'.format(size >> 20, file.resolve()))\n",
    "    except :\n",
    "        print('.')\n",
    "\n",
    "# パスとサイズ指定\n",
    "path = 'C:\\\\Users\\\\tomohiko\\\\Documents'\n",
    "size_in_mb = 2\n",
    "search_files(path, size_in_mb)"
   ]
  },
  {
   "cell_type": "code",
   "execution_count": 34,
   "metadata": {},
   "outputs": [
    {
     "name": "stdout",
     "output_type": "stream",
     "text": [
      "1304.0MB\tC:\\Users\\tomohiko\\VirtualBox VMs\\centOS7_64_2_default_1465044519376_84578\\box-disk1.vmdk\n",
      "2693.0MB\tC:\\Users\\tomohiko\\VirtualBox VMs\\centOS7_64_default_1465030930120_30840\\box-disk1.vmdk\n"
     ]
    },
    {
     "data": {
      "text/html": [
       "<div>\n",
       "<style>\n",
       "    .dataframe thead tr:only-child th {\n",
       "        text-align: right;\n",
       "    }\n",
       "\n",
       "    .dataframe thead th {\n",
       "        text-align: left;\n",
       "    }\n",
       "\n",
       "    .dataframe tbody tr th {\n",
       "        vertical-align: top;\n",
       "    }\n",
       "</style>\n",
       "<table border=\"1\" class=\"dataframe\">\n",
       "  <thead>\n",
       "    <tr style=\"text-align: right;\">\n",
       "      <th></th>\n",
       "      <th>path</th>\n",
       "      <th>size(MB)</th>\n",
       "    </tr>\n",
       "  </thead>\n",
       "  <tbody>\n",
       "    <tr>\n",
       "      <th>0</th>\n",
       "      <td>C:\\Users\\tomohiko\\VirtualBox VMs\\centOS7_64_2_...</td>\n",
       "      <td>1304</td>\n",
       "    </tr>\n",
       "    <tr>\n",
       "      <th>1</th>\n",
       "      <td>C:\\Users\\tomohiko\\VirtualBox VMs\\centOS7_64_de...</td>\n",
       "      <td>2693</td>\n",
       "    </tr>\n",
       "  </tbody>\n",
       "</table>\n",
       "</div>"
      ],
      "text/plain": [
       "                                                path  size(MB)\n",
       "0  C:\\Users\\tomohiko\\VirtualBox VMs\\centOS7_64_2_...      1304\n",
       "1  C:\\Users\\tomohiko\\VirtualBox VMs\\centOS7_64_de...      2693"
      ]
     },
     "execution_count": 34,
     "metadata": {},
     "output_type": "execute_result"
    }
   ],
   "source": [
    "from pathlib import Path\n",
    "from pandas import DataFrame\n",
    "\n",
    "size_list = []\n",
    "path_list = []\n",
    "data = {}\n",
    "df = {}\n",
    "\n",
    "def search_files(path, size_min_in_byte):\n",
    "    \"\"\"指定されたパスの下にある指定されたサイズ以上のファイル名を一覧表示する\n",
    "    \"\"\"\n",
    "    size_min_in_mb = size_min_in_byte << 20\n",
    "\n",
    "    p = Path(path)\n",
    "\n",
    "    try:\n",
    "        # 指定されたパス以下のファイルを再帰的にチェックする\n",
    "        # 指定されたサイズ以上のファイルは「 10MB  ファイル名」といった感じに表示する\n",
    "        for file in p.iterdir():\n",
    "            if file.is_dir():\n",
    "                search_files(file, size_min_in_byte)\n",
    "            elif file.is_file():\n",
    "                size = file.stat().st_size\n",
    "                if size >= size_min_in_mb:\n",
    "                    # resolve() を使って絶対パスを表示する\n",
    "                    print('{:.1f}MB\\t{}'.format(size >> 20, file.resolve()))\n",
    "                    size_list.append(size >> 20) \n",
    "                    path_list.append(file.resolve())\n",
    "    except :\n",
    "        print('.')\n",
    "        \n",
    "\n",
    "# パスとサイズ指定\n",
    "path = 'C:\\\\Users\\\\tomohiko\\\\VirtualBox VMs'\n",
    "size_in_mb = 2\n",
    "search_files(path, size_in_mb)\n",
    "\n",
    "data = {\n",
    "    'size(MB)': size_list,\n",
    "    'path': path_list\n",
    "}\n",
    "df = DataFrame(data)\n",
    "\n",
    "df.head()\n"
   ]
  },
  {
   "cell_type": "code",
   "execution_count": 38,
   "metadata": {},
   "outputs": [],
   "source": [
    "df = df.sort_values('size(MB)',ascending=False)\n",
    "\n",
    "df.to_csv('D:\\\\test2.csv')"
   ]
  },
  {
   "cell_type": "code",
   "execution_count": null,
   "metadata": {
    "collapsed": true
   },
   "outputs": [],
   "source": [
    "\n",
    "\n"
   ]
  }
 ],
 "metadata": {
  "kernelspec": {
   "display_name": "Python 3",
   "language": "python",
   "name": "python3"
  },
  "language_info": {
   "codemirror_mode": {
    "name": "ipython",
    "version": 3
   },
   "file_extension": ".py",
   "mimetype": "text/x-python",
   "name": "python",
   "nbconvert_exporter": "python",
   "pygments_lexer": "ipython3",
   "version": "3.6.3"
  }
 },
 "nbformat": 4,
 "nbformat_minor": 2
}
